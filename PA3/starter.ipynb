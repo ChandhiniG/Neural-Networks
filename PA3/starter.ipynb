{
 "cells": [
  {
   "cell_type": "code",
   "execution_count": 1,
   "metadata": {},
   "outputs": [],
   "source": [
    "from torchvision import utils\n",
    "from basic_fcn import *\n",
    "from dataloader import *\n",
    "from utils import *\n",
    "import torchvision\n",
    "import torch.nn.functional as F\n",
    "import torch.optim as optim\n",
    "from torch.autograd import Variable\n",
    "import time"
   ]
  },
  {
   "cell_type": "code",
   "execution_count": 2,
   "metadata": {},
   "outputs": [],
   "source": [
    "train_dataset = CityScapesDataset(csv_file='train.csv')\n",
    "val_dataset = CityScapesDataset(csv_file='val.csv')\n",
    "test_dataset = CityScapesDataset(csv_file='test.csv')\n",
    "train_loader = DataLoader(dataset=train_dataset,\n",
    "                          batch_size=2,\n",
    "                          num_workers=10,\n",
    "                          shuffle=True)\n",
    "val_loader = DataLoader(dataset=val_dataset,\n",
    "                          batch_size=2,\n",
    "                          num_workers=10,\n",
    "                          shuffle=True)\n",
    "test_loader = DataLoader(dataset=test_dataset,\n",
    "                          batch_size=2,\n",
    "                          num_workers=10,\n",
    "                          shuffle=True)"
   ]
  },
  {
   "cell_type": "code",
   "execution_count": 3,
   "metadata": {},
   "outputs": [
    {
     "name": "stderr",
     "output_type": "stream",
     "text": [
      "/opt/conda/lib/python3.7/site-packages/ipykernel_launcher.py:3: UserWarning: nn.init.xavier_uniform is now deprecated in favor of nn.init.xavier_uniform_.\n",
      "  This is separate from the ipykernel package so we can avoid doing imports until\n"
     ]
    }
   ],
   "source": [
    "def init_weights(m):\n",
    "    if isinstance(m, nn.Conv2d) or isinstance(m, nn.ConvTranspose2d):\n",
    "        torch.nn.init.xavier_uniform(m.weight.data)\n",
    "        torch.nn.init.zeros_(m.bias.data)\n",
    "        \n",
    "epochs     = 100\n",
    "criterion = nn.CrossEntropyLoss()\n",
    "fcn_model = FCN(n_class=n_class)\n",
    "fcn_model.apply(init_weights)\n",
    "#fcn_model = torch.load('best_model')\n",
    "optimizer = optim.Adam(fcn_model.parameters(), lr=5e-3)"
   ]
  },
  {
   "cell_type": "code",
   "execution_count": 4,
   "metadata": {},
   "outputs": [
    {
     "name": "stdout",
     "output_type": "stream",
     "text": [
      "Epoch 0: Pixel Acc: 59.64162826538086, IOU Acc: 0.006579701339753119\n"
     ]
    }
   ],
   "source": [
    "use_gpu = torch.cuda.is_available()\n",
    "if use_gpu:\n",
    "    fcn_model = fcn_model.cuda()\n",
    "    \n",
    "def train():\n",
    "    for epoch in range(epochs):\n",
    "        ts = time.time()\n",
    "        for iter, (X, tar, Y) in enumerate(train_loader):\n",
    "            optimizer.zero_grad()\n",
    "\n",
    "            if use_gpu:\n",
    "                inputs = X.cuda()\n",
    "                labels = Y.cuda()\n",
    "            else:\n",
    "                inputs, labels = X.cpu(), Y.cpu()\n",
    "\n",
    "            outputs = fcn_model(inputs)\n",
    "            loss = criterion(outputs, labels)\n",
    "            loss.backward()\n",
    "            optimizer.step()\n",
    "\n",
    "            if iter % 10 == 0:\n",
    "                print(\"epoch{}, iter{}, loss: {}\".format(epoch, iter, loss.item()))\n",
    "        \n",
    "        print(\"Finish epoch {}, time elapsed {}\".format(epoch, time.time() - ts))\n",
    "        torch.save(fcn_model, 'best_model')\n",
    "\n",
    "        val(epoch)\n",
    "        fcn_model.train()\n",
    "\n",
    "\n",
    "def val(epoch):\n",
    "    # Complete this function - Calculate loss, accuracy and IoU for every epoch\n",
    "    # Make sure to include a softmax after the output from your model\n",
    "    p_acc = 0\n",
    "    iou_acc = 0\n",
    "    count = 0\n",
    "    for iter, (X, tar, Y) in enumerate(val_loader):\n",
    "        if use_gpu:\n",
    "            X = X.cuda()\n",
    "            tar = tar.cuda()\n",
    "        else:\n",
    "            X,tar = X.cpu(), tar.cpu()\n",
    "        p, iou = fcn_model.eval(X, tar)\n",
    "        p_acc += p\n",
    "        iou_acc += np.mean(np.array(iou))\n",
    "        count += 1\n",
    "    print(\"Epoch {}: Pixel Acc: {}, IOU Acc: {}\".format(epoch, p_acc/count, iou_acc/count))\n",
    "    return p_acc/count, iou_acc/count\n",
    "        \n",
    "    \n",
    "    \n",
    "def test():\n",
    "    #Complete this function - Calculate accuracy and IoU \n",
    "    # Make sure to include a softmax after the output from your model\n",
    "    p_acc = 0\n",
    "    iou_acc = 0\n",
    "    count = 0\n",
    "    for iter, (X, tar, Y) in enumerate(test_loader):\n",
    "        if use_gpu:\n",
    "            X = X.cuda()\n",
    "            tar = tar.cuda()\n",
    "        else:\n",
    "            X,tar = X.cpu(), tar.cpu()\n",
    "        p, iou = fcn_model.eval(X, tar)\n",
    "        p_acc += p\n",
    "        iou_acc += np.mean(np.array(iou))\n",
    "        count += 1\n",
    "    print(\"Pixel Acc: {}, IOU Acc: {}\".format(p_acc/count, iou_acc/count))\n",
    "    return p_acc/count, iou_acc/count\n",
    "    \n",
    "if __name__ == \"__main__\":\n",
    "    val(0)# show the accuracy before training\n",
    "#     test()\n",
    "#     train()"
   ]
  }
 ],
 "metadata": {
  "kernelspec": {
   "display_name": "Python 3",
   "language": "python",
   "name": "python3"
  },
  "language_info": {
   "codemirror_mode": {
    "name": "ipython",
    "version": 3
   },
   "file_extension": ".py",
   "mimetype": "text/x-python",
   "name": "python",
   "nbconvert_exporter": "python",
   "pygments_lexer": "ipython3",
   "version": "3.7.3"
  }
 },
 "nbformat": 4,
 "nbformat_minor": 2
}
