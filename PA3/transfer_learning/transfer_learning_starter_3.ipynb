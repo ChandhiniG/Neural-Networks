{
 "cells": [
  {
   "cell_type": "code",
   "execution_count": 1,
   "metadata": {},
   "outputs": [],
   "source": [
    "import sys\n",
    "sys.path.insert(0,'..')\n",
    "\n",
    "from torchvision import utils\n",
    "import torchvision\n",
    "import torch.nn.functional as F\n",
    "import torch.optim as optim\n",
    "from torch.autograd import Variable\n",
    "import time\n",
    "\n",
    "from dataloader import *\n",
    "from utils import *\n"
   ]
  },
  {
   "cell_type": "code",
   "execution_count": 4,
   "metadata": {},
   "outputs": [],
   "source": [
    "class PretrainedEncoder(nn.Module):\n",
    "    def __init__(self, n_class):\n",
    "        super().__init__()\n",
    "        self.n_class = n_class\n",
    "        \n",
    "        # Encoder: Extracing encoder config from pretraiend model\n",
    "        model_pretrained = torchvision.models.vgg11_bn(pretrained=True)\n",
    "        self.encoder = list(model_pretrained.children())[0] #type nn.Sequential\n",
    "        \n",
    "        # Encoder: Changing maxpool layer config to change return_indices to True\n",
    "        for i, layer in enumerate(self.encoder):\n",
    "            if type(layer) == torch.nn.modules.pooling.MaxPool2d:\n",
    "                kernel_size, stride, padding, dilation, ceil_mode = layer.kernel_size, layer.stride, layer.padding, layer.dilation, layer.ceil_mode\n",
    "                layer = torch.nn.modules.pooling.MaxPool2d(kernel_size, \n",
    "                                                           stride=stride, \n",
    "                                                           padding=padding, \n",
    "                                                           dilation=dilation, \n",
    "                                                           return_indices=True, \n",
    "                                                           ceil_mode=ceil_mode)\n",
    "                self.encoder[i] = layer\n",
    "                \n",
    "        # Decoder: Defining decoder according to encoder\n",
    "        self.decoder = nn.Sequential(\n",
    "                    nn.MaxUnpool2d(kernel_size=2, stride=2, padding=0), #28\n",
    "                    nn.BatchNorm2d(512, eps=1e-05, momentum=0.1, affine=True, track_running_stats=True), #26\n",
    "                    nn.ConvTranspose2d(512, 512, kernel_size=3, stride=1, padding=1), #25\n",
    "                    nn.BatchNorm2d(512, eps=1e-05, momentum=0.1, affine=True, track_running_stats=True), #23\n",
    "                    nn.ConvTranspose2d(512, 512, kernel_size=3, stride=1, padding=1), #22\n",
    "                    nn.MaxUnpool2d(kernel_size=2, stride=2, padding=0), #21\n",
    "                    nn.BatchNorm2d(512, eps=1e-05, momentum=0.1, affine=True, track_running_stats=True), #19\n",
    "                    nn.ConvTranspose2d(512, 512, kernel_size=3, stride=1, padding=1), #18\n",
    "                    nn.BatchNorm2d(512, eps=1e-05, momentum=0.1, affine=True, track_running_stats=True), #16\n",
    "                    nn.ConvTranspose2d(512, 256, kernel_size=3, stride=1, padding=1), #15\n",
    "                    nn.MaxUnpool2d(kernel_size=2, stride=2, padding=0), #14\n",
    "                    nn.BatchNorm2d(256, eps=1e-05, momentum=0.1, affine=True, track_running_stats=True), #12\n",
    "                    nn.ConvTranspose2d(256, 256, kernel_size=3, stride=1, padding=1), #11\n",
    "                    nn.BatchNorm2d(256, eps=1e-05, momentum=0.1, affine=True, track_running_stats=True), #9\n",
    "                    nn.ConvTranspose2d(256, 128, kernel_size=3, stride=1, padding=1), #8\n",
    "                    nn.MaxUnpool2d(kernel_size=2, stride=2, padding=0), #7\n",
    "                    nn.BatchNorm2d(128, eps=1e-05, momentum=0.1, affine=True, track_running_stats=True), #5\n",
    "                    nn.ConvTranspose2d(128, 64, kernel_size=3, stride=1, padding=1), #4\n",
    "                    nn.MaxUnpool2d(kernel_size=2, stride=2, padding=0), #3\n",
    "                    nn.BatchNorm2d(64, eps=1e-05, momentum=0.1, affine=True, track_running_stats=True), #1\n",
    "                    nn.ConvTranspose2d(64, 3, kernel_size=3, stride=1, padding=1), #0\n",
    "            )\n",
    "        \n",
    "        self.classifier = nn.Conv2d(3,self.n_class, kernel_size=1)\n",
    "        \n",
    "    def forward(self, x):\n",
    "        indices = []\n",
    "        output_sizes = []\n",
    "        # Encoder: Forward pass\n",
    "        for i, layer in enumerate(self.encoder):\n",
    "            # If layer is max pool, save the indices at which max occured and the size of the image before pooling\n",
    "            if type(layer) == torch.nn.modules.pooling.MaxPool2d:\n",
    "                size = x.shape[-2:]\n",
    "                x, ind = layer(x)\n",
    "                output_sizes.append(size)\n",
    "                indices.append(ind)\n",
    "            else:\n",
    "                x = layer(x)\n",
    "        \n",
    "        # Decoder: Forward pass\n",
    "        for i, layer in enumerate(self.decoder):\n",
    "            if type(layer) == torch.nn.modules.pooling.MaxUnpool2d:\n",
    "                ind = indices.pop()\n",
    "                desired_size = output_sizes.pop()\n",
    "                x = layer(x, ind, output_size = desired_size)\n",
    "            else:\n",
    "                x = layer(x)\n",
    "        assert len(indices) == len(output_sizes) == 0, 'Imbalance in number of max pool and unpool 2d'\n",
    "        \n",
    "        # Classifier: Going from 3 to n_class channels\n",
    "        x = self.classifier(x)\n",
    "        \n",
    "        return x\n",
    "    \n",
    "    def evaluate(self, img_batch, target_batch):\n",
    "        # TODO: asserts and docstring\n",
    "        target_batch = target_batch.argmax(dim=1)\n",
    "        probs_batch = self.forward(img_batch)\n",
    "        pred_batch = probs_batch.argmax(dim = 1)\n",
    "        p_acc = pixel_acc(pred_batch, target_batch)\n",
    "        iou_acc = iou(pred_batch, target_batch,self.n_class)     \n",
    "        return p_acc, iou_acc"
   ]
  },
  {
   "cell_type": "code",
   "execution_count": 5,
   "metadata": {},
   "outputs": [],
   "source": [
    "n_class = 34\n",
    "model = PretrainedEncoder(n_class)\n",
    "model = model.cuda()\n",
    "for name, param in model.named_parameters():\n",
    "    if 'encoder' in name:\n",
    "        param.requires_grad = False"
   ]
  },
  {
   "cell_type": "code",
   "execution_count": 6,
   "metadata": {},
   "outputs": [
    {
     "name": "stdout",
     "output_type": "stream",
     "text": [
      "x.shape =  torch.Size([2, 3, 512, 258])\n",
      "out.shape =  torch.Size([2, 34, 512, 258])\n"
     ]
    }
   ],
   "source": [
    "x = torch.rand(2,3,512,258).cuda()\n",
    "out = model(x)\n",
    "print('x.shape = ', x.shape)\n",
    "print('out.shape = ', out.shape)"
   ]
  },
  {
   "cell_type": "code",
   "execution_count": null,
   "metadata": {},
   "outputs": [],
   "source": [
    "def test_fn(m):\n",
    "    if isinstance(m, torch.nn.ConvTranspose2d):\n",
    "        print(m)\n",
    "        \n",
    "model.apply(test_fn)"
   ]
  },
  {
   "cell_type": "code",
   "execution_count": null,
   "metadata": {},
   "outputs": [],
   "source": [
    "transforms_composed = transforms.Compose([\n",
    "                        transforms.Resize((512, 256)),\n",
    "                        ])\n",
    "train_dataset = CityScapesDataset(csv_file='../train.csv', transforms = transforms_composed)\n"
   ]
  },
  {
   "cell_type": "code",
   "execution_count": null,
   "metadata": {},
   "outputs": [],
   "source": [
    "out = train_dataset[206]"
   ]
  },
  {
   "cell_type": "code",
   "execution_count": null,
   "metadata": {},
   "outputs": [],
   "source": [
    "import matplotlib.pyplot as plt\n",
    "\n",
    "plt.imshow(out[2].reshape(256, 512))"
   ]
  },
  {
   "cell_type": "code",
   "execution_count": null,
   "metadata": {},
   "outputs": [],
   "source": [
    "model_pretrained = torchvision.models.vgg11_bn(pretrained=True)\n",
    "# print(model_pretrained)\n",
    "encoder = list(model_pretrained.children())[0]\n",
    "print(encoder)\n",
    "# encoder[12] = nn.MaxPool2d(kernel_size=3, stride=2, padding=0, dilation=1, ceil_mode=False, return_indices=True)\n",
    "print(encoder[2].return_indices)"
   ]
  },
  {
   "cell_type": "code",
   "execution_count": null,
   "metadata": {},
   "outputs": [],
   "source": [
    "# # encoder_mod = deepcopy(encoder)\n",
    "# for i, layer in enumerate(encoder):\n",
    "#     if type(layer) == torch.nn.modules.pooling.MaxPool2d:\n",
    "#         kernel_size, stride, padding, dilation, ceil_mode = layer.kernel_size, layer.stride, layer.padding, layer.dilation, layer.ceil_mode\n",
    "#         layer = torch.nn.modules.pooling.MaxPool2d(kernel_size, \n",
    "#                                                    stride=stride, \n",
    "#                                                    padding=padding, \n",
    "#                                                    dilation=dilation, \n",
    "#                                                    return_indices=True, \n",
    "#                                                    ceil_mode=ceil_mode)\n",
    "#         encoder[i] = layer"
   ]
  },
  {
   "cell_type": "code",
   "execution_count": null,
   "metadata": {},
   "outputs": [],
   "source": [
    "# encoder_small = encoder[0:3]\n",
    "# decoder_small = nn.Sequential(\n",
    "#         nn.MaxUnpool2d(kernel_size=3, stride=2, padding=0),\n",
    "#         nn.ConvTranspose2d(64, 3, kernel_size=3, stride=1, padding=1),\n",
    "#         )\n",
    "# test_image = torch.rand(2, 3, 512, 256)\n",
    "# out_encoder = encoder_small(test_image)\n",
    "\n",
    "# x = test_image\n",
    "# indices = []\n",
    "# output_sizes = []\n",
    "# print(x.shape)\n",
    "# for i, layer in enumerate(encoder_small):\n",
    "#     if type(layer) == torch.nn.modules.pooling.MaxPool2d:\n",
    "#         size = x.shape[-2:]\n",
    "#         output_sizes.append(size)\n",
    "#         x, ind = layer(x)\n",
    "#         indices.append(ind)\n",
    "#     else:\n",
    "#         x = layer(x)\n",
    "\n",
    "# print(x.shape)\n",
    "\n",
    "# for i, layer in enumerate(decoder_small):\n",
    "#     if type(layer) == torch.nn.modules.pooling.MaxUnpool2d:\n",
    "#         ind = indices.pop()\n",
    "#         desired_size = output_sizes.pop()\n",
    "#         x = layer(x, ind, output_size = desired_size)\n",
    "#     else:\n",
    "#         x = layer(x)\n",
    "        \n",
    "# print(x.shape)"
   ]
  },
  {
   "cell_type": "code",
   "execution_count": null,
   "metadata": {},
   "outputs": [],
   "source": []
  }
 ],
 "metadata": {
  "kernelspec": {
   "display_name": "Python 3",
   "language": "python",
   "name": "python3"
  },
  "language_info": {
   "codemirror_mode": {
    "name": "ipython",
    "version": 3
   },
   "file_extension": ".py",
   "mimetype": "text/x-python",
   "name": "python",
   "nbconvert_exporter": "python",
   "pygments_lexer": "ipython3",
   "version": "3.6.8"
  }
 },
 "nbformat": 4,
 "nbformat_minor": 2
}
